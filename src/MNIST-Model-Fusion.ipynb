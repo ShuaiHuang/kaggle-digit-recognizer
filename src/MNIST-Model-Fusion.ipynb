{
 "cells": [
  {
   "cell_type": "markdown",
   "metadata": {},
   "source": [
    "# Model Fusion on the `MNIST` Dataset"
   ]
  },
  {
   "cell_type": "code",
   "execution_count": 1,
   "metadata": {
    "collapsed": true
   },
   "outputs": [],
   "source": [
    "import numpy as np\n",
    "import os"
   ]
  },
  {
   "cell_type": "markdown",
   "metadata": {},
   "source": [
    "The `submission.csv` file are stored in the `SUBMISSION_DIR` folder, and the files are named as `submission1.csv`, `submission2.csv` formation."
   ]
  },
  {
   "cell_type": "code",
   "execution_count": 19,
   "metadata": {
    "collapsed": true
   },
   "outputs": [],
   "source": [
    "SUBMISSION_DIR = '../data/model_fusion'\n",
    "FILE_EXT = '.csv'\n",
    "TEST_ITEMS = 28000\n",
    "CATEGORIES = 10\n",
    "FUSED_SUBMISSION_DIR = '../data'\n",
    "FUSED_SUBMISSION = 'submission.csv'"
   ]
  },
  {
   "cell_type": "markdown",
   "metadata": {},
   "source": [
    "Get the list of submission files."
   ]
  },
  {
   "cell_type": "code",
   "execution_count": 7,
   "metadata": {},
   "outputs": [
    {
     "name": "stdout",
     "output_type": "stream",
     "text": [
      "['../data/model_fusion/submission3.csv', '../data/model_fusion/submission1.csv', '../data/model_fusion/submission2.csv', '../data/model_fusion/submission8.csv', '../data/model_fusion/submission6.csv', '../data/model_fusion/submission9.csv', '../data/model_fusion/submission7.csv', '../data/model_fusion/submission4.csv', '../data/model_fusion/submission5.csv']\n"
     ]
    }
   ],
   "source": [
    "dir_file_list = os.walk(SUBMISSION_DIR)\n",
    "submission_file_list = []\n",
    "for root, dirs, files in dir_file_list:\n",
    "    for file_name in files:\n",
    "        (_, file_ext) = os.path.splitext(file_name)\n",
    "        if file_ext == FILE_EXT:\n",
    "            submission_file_list.append(os.path.join(root, file_name))"
   ]
  },
  {
   "cell_type": "code",
   "execution_count": 13,
   "metadata": {
    "collapsed": true
   },
   "outputs": [],
   "source": [
    "def convertSubmission2OneHot(submission_data):\n",
    "    one_hot_data = np.zeros([TEST_ITEMS, CATEGORIES], dtype=np.int8)\n",
    "    for row in range(submission_data.shape[0]):\n",
    "        one_hot_data[row, submission_data[row]] = 1\n",
    "    return one_hot_data"
   ]
  },
  {
   "cell_type": "code",
   "execution_count": 14,
   "metadata": {},
   "outputs": [],
   "source": [
    "one_hot_result = np.zeros([TEST_ITEMS, CATEGORIES], dtype=np.int8)\n",
    "for submission_file in submission_file_list:\n",
    "    submission = np.genfromtxt(submission_file, skip_header=1, dtype=np.int8, delimiter=',', usecols=[1])\n",
    "    temp_one_hot_result = convertSubmission2OneHot(submission)\n",
    "    one_hot_result = one_hot_result + temp_one_hot_result"
   ]
  },
  {
   "cell_type": "code",
   "execution_count": 25,
   "metadata": {
    "collapsed": true
   },
   "outputs": [],
   "source": [
    "def convertOneHot2Submission(one_hot_data):\n",
    "    submission_data = np.zeros([TEST_ITEMS, 2], dtype=np.int32)\n",
    "    for row in range(TEST_ITEMS):\n",
    "        submission_data[row, 0] = row + 1\n",
    "    submission_data[:, 1] = np.argmax(one_hot_data, axis=1)\n",
    "    return submission_data"
   ]
  },
  {
   "cell_type": "code",
   "execution_count": 26,
   "metadata": {},
   "outputs": [],
   "source": [
    "submission_result = convertOneHot2Submission(one_hot_result)"
   ]
  },
  {
   "cell_type": "code",
   "execution_count": 27,
   "metadata": {},
   "outputs": [],
   "source": [
    "np.savetxt(os.path.join(FUSED_SUBMISSION_DIR, FUSED_SUBMISSION), submission_result, fmt=\"%d,%d\", header=\"ImageId,Label\", comments=\"\")"
   ]
  },
  {
   "cell_type": "code",
   "execution_count": null,
   "metadata": {
    "collapsed": true
   },
   "outputs": [],
   "source": []
  }
 ],
 "metadata": {
  "kernelspec": {
   "display_name": "Python 2",
   "language": "python",
   "name": "python2"
  },
  "language_info": {
   "codemirror_mode": {
    "name": "ipython",
    "version": 2
   },
   "file_extension": ".py",
   "mimetype": "text/x-python",
   "name": "python",
   "nbconvert_exporter": "python",
   "pygments_lexer": "ipython2",
   "version": "2.7.13"
  }
 },
 "nbformat": 4,
 "nbformat_minor": 2
}
